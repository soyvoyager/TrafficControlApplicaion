{
 "cells": [
  {
   "cell_type": "code",
   "execution_count": null,
   "metadata": {},
   "outputs": [],
   "source": [
    "#owslib package is helpful for installing aerial images with Web Map Service\n",
    "from owslib.wms import WebMapService\n",
    "URL = \"https://geodata.nationaalgeoregister.nl/luchtfoto/rgb/wms?request=GetCapabilities\"\n",
    "#this link is the satellite image for getting the aerial images of Netherland region. Freely accessible and no restrains.\n",
    "\n",
    "wms = WebMapService(URL, version='1.1.1')\n",
    " \n",
    "#dirctory for saving the tiles  \n",
    "OP_DIR = \"C:/Users/a/Desktop/image_tiles_200\"\n",
    "\n",
    "amin = 90000\n",
    "bmin = 427000\n",
    "da, db = 200, 200\n",
    "#“da” and “db” is defined here for adjusting zooming level of Tiles. A values of 200~12, and a value 100~13(Zoom level).\n",
    "n_tiles_a = 100\n",
    "n_tiles_b = 100\n",
    "tot_n_tiles = n_tiles_a * n_tiles_b\n",
    "amax = amin + n_tiles_a * da\n",
    "bmax = bmin + n_tiles_b * db\n",
    "BOUNDING_BOX = [amin,bmin,amax,bmax]\n",
    "#lower left a and b as well as upper right a nd b co-ods are used in file name so it will always know where the tile is located...\n",
    "for mm in range(0,n_tiles_a):\n",
    "    print(mm)\n",
    "    for nn in range(0,n_tiles_b):\n",
    "        ll_a_ = amin + mm*da\n",
    "        ll_b_ = bmin + nn*db\n",
    "        bbox = (ll_a_, ll_b_, ll_a_ + da, ll_b_ + db) \n",
    "        img = wms.getmap(layers=['Actueel_ortho25'], srs='EPSG:28992', bbox=bbox, size=(256, 256), format='image/jpeg', transparent=True)\n",
    "        filename = \"{}_{}_{}_{}.jpg\".format(bbox[0], bbox[1], bbox[2], bbox[3])\n",
    "        out = open(OP_DIR + filename, 'wb')\n",
    "        out.write(img.read())\n",
    "        out.close()"
   ]
  }
 ],
 "metadata": {
  "kernelspec": {
   "display_name": "Python 3",
   "language": "python",
   "name": "python3"
  },
  "language_info": {
   "codemirror_mode": {
    "name": "ipython",
    "version": 3
   },
   "file_extension": ".py",
   "mimetype": "text/x-python",
   "name": "python",
   "nbconvert_exporter": "python",
   "pygments_lexer": "ipython3",
   "version": "3.7.4"
  }
 },
 "nbformat": 4,
 "nbformat_minor": 2
}
