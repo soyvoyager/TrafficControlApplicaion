{
 "cells": [
  {
   "cell_type": "code",
   "execution_count": null,
   "metadata": {},
   "outputs": [],
   "source": []
  },
  {
   "cell_type": "code",
   "execution_count": null,
   "metadata": {},
   "outputs": [
    {
     "name": "stdout",
     "output_type": "stream",
     "text": [
      "file Wegvakken.shp is Downloading\n",
      "file Wegvakken.prj is Downloading\n",
      "file Wegvakken.dbf is Downloading\n"
     ]
    }
   ],
   "source": [
    "import os\n",
    "import requests\n",
    "import shutil\n",
    "\n",
    "Linkshp = 'https://www.rijkswaterstaat.nl/apps/geoservices/geodata/dmc/nwb-wegen/geogegevens/shapefile/Nederland_totaal/01-12-2019/Wegvakken/Wegvakken.shp'\n",
    "Linkprf = 'https://www.rijkswaterstaat.nl/apps/geoservices/geodata/dmc/nwb-wegen/geogegevens/shapefile/Nederland_totaal/01-12-2019/Wegvakken/Wegvakken.prj'\n",
    "Linkdbf = 'https://www.rijkswaterstaat.nl/apps/geoservices/geodata/dmc/nwb-wegen/geogegevens/shapefile/Nederland_totaal/01-12-2019/Wegvakken/Wegvakken.dbf'\n",
    "Linkshx = 'https://www.rijkswaterstaat.nl/apps/geoservices/geodata/dmc/nwb-wegen/geogegevens/shapefile/Nederland_totaal/01-12-2019/Wegvakken/Wegvakken.shx'\n",
    "\n",
    "Links_clust=[Linkshp,Linkprf,Linkdbf,Linkshx]\n",
    "SHP_data_fold=\"C:/Users/a/Desktop/syllabus/prj1/\"\n",
    "\n",
    "json_filename=SHP_data_fold+'2019_12_wegvakken.json'\n",
    "\n",
    "if not os.path.exists(SHP_data_fold):\n",
    "    os.makedirs(SHP_data_fold)\n",
    "\n",
    "for Link in Links_clust:\n",
    "    filename=Link.split('/')[-1]\n",
    "    print(\"file {} is Downloading\".format(filename))\n",
    "    req=requests.get(Link, stream=True)\n",
    "    if req.status_code == 200:\n",
    "        with open(SHP_data_fold+filename,'wb') as f:\n",
    "            req.raw.decode_content = True\n",
    "            shutil.copyfileobj(req.raw, f)"
   ]
  },
  {
   "cell_type": "code",
   "execution_count": null,
   "metadata": {},
   "outputs": [],
   "source": []
  },
  {
   "cell_type": "code",
   "execution_count": 44,
   "metadata": {},
   "outputs": [],
   "source": []
  },
  {
   "cell_type": "code",
   "execution_count": null,
   "metadata": {},
   "outputs": [],
   "source": []
  },
  {
   "cell_type": "code",
   "execution_count": null,
   "metadata": {},
   "outputs": [],
   "source": []
  },
  {
   "cell_type": "code",
   "execution_count": null,
   "metadata": {},
   "outputs": [],
   "source": []
  }
 ],
 "metadata": {
  "kernelspec": {
   "display_name": "Python 3",
   "language": "python",
   "name": "python3"
  },
  "language_info": {
   "codemirror_mode": {
    "name": "ipython",
    "version": 3
   },
   "file_extension": ".py",
   "mimetype": "text/x-python",
   "name": "python",
   "nbconvert_exporter": "python",
   "pygments_lexer": "ipython3",
   "version": "3.7.4"
  }
 },
 "nbformat": 4,
 "nbformat_minor": 2
}
